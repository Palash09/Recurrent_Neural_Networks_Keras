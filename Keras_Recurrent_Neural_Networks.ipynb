{
 "cells": [
  {
   "cell_type": "code",
   "execution_count": 1,
   "metadata": {},
   "outputs": [
    {
     "name": "stderr",
     "output_type": "stream",
     "text": [
      "H:\\Anaconda\\lib\\site-packages\\h5py\\__init__.py:34: FutureWarning: Conversion of the second argument of issubdtype from `float` to `np.floating` is deprecated. In future, it will be treated as `np.float64 == np.dtype(float).type`.\n",
      "  from ._conv import register_converters as _register_converters\n",
      "Using TensorFlow backend.\n"
     ]
    }
   ],
   "source": [
    "import numpy as np\n",
    "from keras.models import Sequential\n",
    "from keras.layers import Dense\n",
    "from keras.layers import Dropout\n",
    "from keras.layers import LSTM\n",
    "from keras.utils import np_utils"
   ]
  },
  {
   "cell_type": "code",
   "execution_count": 2,
   "metadata": {
    "collapsed": true
   },
   "outputs": [],
   "source": [
    "#Reading the data and converting it into lower case\n",
    "data = open(\"Othello.txt\").read().lower()\n",
    "#Now we will sort the data which is obtained in the form of list\n",
    "chars = sorted(list(set(data)))\n",
    "#Now we are counting the total number of characters\n",
    "totalChars = len(data)\n",
    "#Number of unique chars\n",
    "numberOfUniqueChars = len(chars)"
   ]
  },
  {
   "cell_type": "code",
   "execution_count": 3,
   "metadata": {
    "collapsed": true
   },
   "outputs": [],
   "source": [
    "#For better results we are assigning Id to each character\n",
    "CharsForids = {char:Id for Id, char in enumerate(chars)}\n",
    "\n",
    "#This is the opposite to the above\n",
    "idsForChars = {Id:char for Id, char in enumerate(chars)}\n",
    "\n",
    "#Here we are deciding the number of characters learned i.e. Timestep\n",
    "numberOfCharsToLearn = 100"
   ]
  },
  {
   "cell_type": "code",
   "execution_count": 4,
   "metadata": {
    "collapsed": true
   },
   "outputs": [],
   "source": [
    "#Since our timestep sequence represetns a process for every 100 chars we omit\n",
    "#the first 100 chars so the loop runs a 100 less or there will be index out of\n",
    "#range\n",
    "counter = totalChars - numberOfCharsToLearn"
   ]
  },
  {
   "cell_type": "code",
   "execution_count": 5,
   "metadata": {
    "collapsed": true
   },
   "outputs": [],
   "source": [
    "#Here we are storing the input data\n",
    "charX = []\n",
    "#Here we have stored the output data\n",
    "y = []\n",
    "#This loops through all the characters in the data skipping the first 100\n",
    "for i in range(0, counter, 1):\n",
    "    #This one goes from 0-100 so it gets 100 values starting from 0 and stops\n",
    "    #just before the 100th value\n",
    "    theInputChars = data[i:i+numberOfCharsToLearn]\n",
    "    #If we do not use ':' we start with 0, and so we get the actual 100th value\n",
    "    #Essentially, the output Chars is the next char in line for those 100 chars\n",
    "    #in X\n",
    "    theOutputChars = data[i + numberOfCharsToLearn]\n",
    "    #Through this we are adding/appending 100 chars as an Id to list charX\n",
    "    charX.append([CharsForids[char] for char in theInputChars])\n",
    "    #For every 100 values there is one y value which is the output\n",
    "    y.append(CharsForids[theOutputChars])"
   ]
  },
  {
   "cell_type": "code",
   "execution_count": 6,
   "metadata": {
    "collapsed": true
   },
   "outputs": [],
   "source": [
    "#Len charX represents how many of those time steps we have\n",
    "#Our features are set to 1 because in the output we are only predicting 1 char\n",
    "#Finally numberOfCharsToLearn is how many character we process\n",
    "X = np.reshape(charX, (len(charX), numberOfCharsToLearn, 1))"
   ]
  },
  {
   "cell_type": "code",
   "execution_count": 7,
   "metadata": {},
   "outputs": [
    {
     "name": "stdout",
     "output_type": "stream",
     "text": [
      "[[0. 0. 0. ... 0. 0. 0.]\n",
      " [0. 0. 0. ... 0. 0. 0.]\n",
      " [0. 1. 0. ... 0. 0. 0.]\n",
      " ...\n",
      " [0. 0. 0. ... 0. 0. 0.]\n",
      " [0. 0. 0. ... 0. 0. 0.]\n",
      " [0. 0. 0. ... 0. 0. 0.]]\n"
     ]
    }
   ],
   "source": [
    "#For normalizing\n",
    "X = X/float(numberOfUniqueChars)\n",
    "\n",
    "#This sets it up for us so we can have a categorical(#feature) output format\n",
    "y = np_utils.to_categorical(y)\n",
    "print(y)"
   ]
  },
  {
   "cell_type": "code",
   "execution_count": 8,
   "metadata": {},
   "outputs": [
    {
     "name": "stdout",
     "output_type": "stream",
     "text": [
      "Epoch 1/100\n",
      "1760/1760 [==============================] - 15s 9ms/step - loss: 3.2341\n",
      "Epoch 2/100\n",
      "1760/1760 [==============================] - 11s 6ms/step - loss: 3.0246\n",
      "Epoch 3/100\n",
      "1760/1760 [==============================] - 10s 6ms/step - loss: 3.0049\n",
      "Epoch 4/100\n",
      "1760/1760 [==============================] - 10s 6ms/step - loss: 3.0015\n",
      "Epoch 5/100\n",
      "1760/1760 [==============================] - 10s 6ms/step - loss: 2.9964\n",
      "Epoch 6/100\n",
      "1760/1760 [==============================] - 10s 6ms/step - loss: 2.9952\n",
      "Epoch 7/100\n",
      "1760/1760 [==============================] - 10s 6ms/step - loss: 2.9937\n",
      "Epoch 8/100\n",
      "1760/1760 [==============================] - 10s 6ms/step - loss: 2.9909\n",
      "Epoch 9/100\n",
      "1760/1760 [==============================] - 10s 6ms/step - loss: 2.9940\n",
      "Epoch 10/100\n",
      "1760/1760 [==============================] - 10s 6ms/step - loss: 2.9912\n",
      "Epoch 11/100\n",
      "1760/1760 [==============================] - 10s 6ms/step - loss: 2.9896\n",
      "Epoch 12/100\n",
      "1760/1760 [==============================] - 10s 6ms/step - loss: 2.9952\n",
      "Epoch 13/100\n",
      "1760/1760 [==============================] - 10s 6ms/step - loss: 2.9890\n",
      "Epoch 14/100\n",
      "1760/1760 [==============================] - 10s 6ms/step - loss: 2.9885\n",
      "Epoch 15/100\n",
      "1760/1760 [==============================] - 10s 6ms/step - loss: 2.9922\n",
      "Epoch 16/100\n",
      "1760/1760 [==============================] - 10s 6ms/step - loss: 2.9875\n",
      "Epoch 17/100\n",
      "1760/1760 [==============================] - 10s 6ms/step - loss: 2.9836\n",
      "Epoch 18/100\n",
      "1760/1760 [==============================] - 10s 6ms/step - loss: 2.9818\n",
      "Epoch 19/100\n",
      "1760/1760 [==============================] - 10s 6ms/step - loss: 2.9866\n",
      "Epoch 20/100\n",
      "1760/1760 [==============================] - 11s 6ms/step - loss: 2.9871\n",
      "Epoch 21/100\n",
      "1760/1760 [==============================] - 10s 6ms/step - loss: 2.9835\n",
      "Epoch 22/100\n",
      "1760/1760 [==============================] - 10s 6ms/step - loss: 2.9821\n",
      "Epoch 23/100\n",
      "1760/1760 [==============================] - 10s 6ms/step - loss: 2.9817\n",
      "Epoch 24/100\n",
      "1760/1760 [==============================] - 10s 6ms/step - loss: 2.9776\n",
      "Epoch 25/100\n",
      "1760/1760 [==============================] - 10s 6ms/step - loss: 2.9775\n",
      "Epoch 26/100\n",
      "1760/1760 [==============================] - 10s 6ms/step - loss: 2.9771\n",
      "Epoch 27/100\n",
      "1760/1760 [==============================] - 10s 6ms/step - loss: 2.9762\n",
      "Epoch 28/100\n",
      "1760/1760 [==============================] - 11s 6ms/step - loss: 2.9690\n",
      "Epoch 29/100\n",
      "1760/1760 [==============================] - 10s 6ms/step - loss: 2.9717\n",
      "Epoch 30/100\n",
      "1760/1760 [==============================] - 10s 6ms/step - loss: 2.9690\n",
      "Epoch 31/100\n",
      "1760/1760 [==============================] - 10s 6ms/step - loss: 2.9684\n",
      "Epoch 32/100\n",
      "1760/1760 [==============================] - 10s 6ms/step - loss: 2.9668\n",
      "Epoch 33/100\n",
      "1760/1760 [==============================] - 10s 6ms/step - loss: 2.9551\n",
      "Epoch 34/100\n",
      "1760/1760 [==============================] - 10s 6ms/step - loss: 2.9597\n",
      "Epoch 35/100\n",
      "1760/1760 [==============================] - 20s 11ms/step - loss: 2.9498\n",
      "Epoch 36/100\n",
      "1760/1760 [==============================] - 15s 8ms/step - loss: 2.9457\n",
      "Epoch 37/100\n",
      "1760/1760 [==============================] - 11s 6ms/step - loss: 2.9384\n",
      "Epoch 38/100\n",
      "1760/1760 [==============================] - 10s 6ms/step - loss: 2.9380\n",
      "Epoch 39/100\n",
      "1760/1760 [==============================] - 10s 6ms/step - loss: 2.9286\n",
      "Epoch 40/100\n",
      "1760/1760 [==============================] - 10s 6ms/step - loss: 2.9250\n",
      "Epoch 41/100\n",
      "1760/1760 [==============================] - 10s 6ms/step - loss: 2.9114\n",
      "Epoch 42/100\n",
      "1760/1760 [==============================] - 10s 6ms/step - loss: 2.9066\n",
      "Epoch 43/100\n",
      "1760/1760 [==============================] - 10s 6ms/step - loss: 2.9104\n",
      "Epoch 44/100\n",
      "1760/1760 [==============================] - 10s 6ms/step - loss: 2.9035\n",
      "Epoch 45/100\n",
      "1760/1760 [==============================] - 10s 6ms/step - loss: 2.8963\n",
      "Epoch 46/100\n",
      "1760/1760 [==============================] - 10s 6ms/step - loss: 2.8844\n",
      "Epoch 47/100\n",
      "1760/1760 [==============================] - 10s 6ms/step - loss: 2.8852\n",
      "Epoch 48/100\n",
      "1760/1760 [==============================] - 10s 6ms/step - loss: 2.8771\n",
      "Epoch 49/100\n",
      "1760/1760 [==============================] - 10s 6ms/step - loss: 2.8802\n",
      "Epoch 50/100\n",
      "1760/1760 [==============================] - 11s 6ms/step - loss: 2.8690\n",
      "Epoch 51/100\n",
      "1760/1760 [==============================] - 11s 6ms/step - loss: 2.8742\n",
      "Epoch 52/100\n",
      "1760/1760 [==============================] - 11s 6ms/step - loss: 2.8662\n",
      "Epoch 53/100\n",
      "1760/1760 [==============================] - 10s 6ms/step - loss: 2.8566\n",
      "Epoch 54/100\n",
      "1760/1760 [==============================] - 10s 6ms/step - loss: 2.8559\n",
      "Epoch 55/100\n",
      "1760/1760 [==============================] - 10s 6ms/step - loss: 2.8450\n",
      "Epoch 56/100\n",
      "1760/1760 [==============================] - 10s 6ms/step - loss: 2.8306\n",
      "Epoch 57/100\n",
      "1760/1760 [==============================] - 10s 6ms/step - loss: 2.8266\n",
      "Epoch 58/100\n",
      "1760/1760 [==============================] - 10s 6ms/step - loss: 2.8171\n",
      "Epoch 59/100\n",
      "1760/1760 [==============================] - 11s 6ms/step - loss: 2.8023\n",
      "Epoch 60/100\n",
      "1760/1760 [==============================] - 10s 6ms/step - loss: 2.7940\n",
      "Epoch 61/100\n",
      "1760/1760 [==============================] - 11s 6ms/step - loss: 2.7800\n",
      "Epoch 62/100\n",
      "1760/1760 [==============================] - 10s 6ms/step - loss: 2.7877\n",
      "Epoch 63/100\n",
      "1760/1760 [==============================] - 10s 6ms/step - loss: 2.7720\n",
      "Epoch 64/100\n",
      "1760/1760 [==============================] - 10s 6ms/step - loss: 2.7444\n",
      "Epoch 65/100\n",
      "1760/1760 [==============================] - 11s 6ms/step - loss: 2.7110\n",
      "Epoch 66/100\n",
      "1760/1760 [==============================] - 11s 6ms/step - loss: 2.7192\n",
      "Epoch 67/100\n",
      "1760/1760 [==============================] - 10s 6ms/step - loss: 2.6951\n",
      "Epoch 68/100\n",
      "1760/1760 [==============================] - 10s 6ms/step - loss: 2.6626\n",
      "Epoch 69/100\n",
      "1760/1760 [==============================] - 10s 6ms/step - loss: 2.6412\n",
      "Epoch 70/100\n",
      "1760/1760 [==============================] - 10s 6ms/step - loss: 2.6364\n",
      "Epoch 71/100\n",
      "1760/1760 [==============================] - 10s 6ms/step - loss: 2.6068\n",
      "Epoch 72/100\n",
      "1760/1760 [==============================] - 10s 6ms/step - loss: 2.5760\n",
      "Epoch 73/100\n",
      "1760/1760 [==============================] - 11s 6ms/step - loss: 2.5486\n",
      "Epoch 74/100\n",
      "1760/1760 [==============================] - 10s 6ms/step - loss: 2.5490\n",
      "Epoch 75/100\n",
      "1760/1760 [==============================] - 10s 6ms/step - loss: 2.5087\n",
      "Epoch 76/100\n",
      "1760/1760 [==============================] - 10s 6ms/step - loss: 2.4657\n",
      "Epoch 77/100\n",
      "1760/1760 [==============================] - 10s 6ms/step - loss: 2.4556\n",
      "Epoch 78/100\n",
      "1760/1760 [==============================] - 10s 6ms/step - loss: 2.3996\n",
      "Epoch 79/100\n",
      "1760/1760 [==============================] - 10s 6ms/step - loss: 2.3721\n",
      "Epoch 80/100\n",
      "1760/1760 [==============================] - 10s 6ms/step - loss: 2.3349\n",
      "Epoch 81/100\n",
      "1760/1760 [==============================] - 11s 6ms/step - loss: 2.3270\n",
      "Epoch 82/100\n",
      "1760/1760 [==============================] - 10s 6ms/step - loss: 2.2546\n",
      "Epoch 83/100\n",
      "1760/1760 [==============================] - 10s 6ms/step - loss: 2.2379\n",
      "Epoch 84/100\n",
      "1760/1760 [==============================] - 10s 6ms/step - loss: 2.2160\n",
      "Epoch 85/100\n",
      "1760/1760 [==============================] - 11s 6ms/step - loss: 2.1374\n",
      "Epoch 86/100\n",
      "1760/1760 [==============================] - 10s 6ms/step - loss: 2.0675\n",
      "Epoch 87/100\n",
      "1760/1760 [==============================] - 11s 6ms/step - loss: 2.0284\n",
      "Epoch 88/100\n",
      "1760/1760 [==============================] - 10s 6ms/step - loss: 1.9918\n",
      "Epoch 89/100\n",
      "1760/1760 [==============================] - 11s 6ms/step - loss: 1.9610\n",
      "Epoch 90/100\n",
      "1760/1760 [==============================] - 10s 6ms/step - loss: 1.9002\n",
      "Epoch 91/100\n",
      "1760/1760 [==============================] - 10s 6ms/step - loss: 1.8462\n",
      "Epoch 92/100\n",
      "1760/1760 [==============================] - 10s 6ms/step - loss: 1.7618\n",
      "Epoch 93/100\n",
      "1760/1760 [==============================] - 11s 6ms/step - loss: 1.7095\n",
      "Epoch 94/100\n",
      "1760/1760 [==============================] - 10s 6ms/step - loss: 1.6357\n",
      "Epoch 95/100\n",
      "1760/1760 [==============================] - 10s 6ms/step - loss: 1.5664\n",
      "Epoch 96/100\n"
     ]
    },
    {
     "name": "stdout",
     "output_type": "stream",
     "text": [
      "1760/1760 [==============================] - 10s 6ms/step - loss: 1.5714\n",
      "Epoch 97/100\n",
      "1760/1760 [==============================] - 10s 6ms/step - loss: 1.4938\n",
      "Epoch 98/100\n",
      "1760/1760 [==============================] - 10s 6ms/step - loss: 1.4075\n",
      "Epoch 99/100\n",
      "1760/1760 [==============================] - 10s 6ms/step - loss: 1.4013\n",
      "Epoch 100/100\n",
      "1760/1760 [==============================] - 10s 6ms/step - loss: 1.3536\n"
     ]
    }
   ],
   "source": [
    "model = Sequential()\n",
    "#Since we know the shape of our Data we can input the timestep and feature data\n",
    "#The number of timestep sequence are dealt with in the fit function\n",
    "model.add(LSTM(256, input_shape=(X.shape[1], X.shape[2])))\n",
    "model.add(Dropout(0.2))\n",
    "#number of features on the output\n",
    "model.add(Dense(y.shape[1], activation='softmax'))\n",
    "model.compile(loss='categorical_crossentropy', optimizer='adam')\n",
    "model.fit(X, y, epochs=100, batch_size=128)\n",
    "model.save_weights(\"Othello.hdf5\")\n",
    "model.load_weights(\"Othello.hdf5\")\n"
   ]
  },
  {
   "cell_type": "code",
   "execution_count": 9,
   "metadata": {},
   "outputs": [
    {
     "name": "stdout",
     "output_type": "stream",
     "text": [
      " des woetei \n",
      "thi had soe cam mored ser thet i she dademe thet h s a apee pat the  ide btt th t l  ih\n"
     ]
    }
   ],
   "source": [
    "randomVal = np.random.randint(0, len(charX)-1)\n",
    "randomStart = charX[randomVal]\n",
    "for i in range(500):\n",
    "    x = np.reshape(randomStart, (1, len(randomStart), 1))\n",
    "    x = x/float(numberOfUniqueChars)\n",
    "    pred = model.predict(x)\n",
    "    index = np.argmax(pred)\n",
    "    randomStart.append(index)\n",
    "    randomStart = randomStart[1: len(randomStart)]\n",
    "print(\"\".join([idsForChars[value] for value in randomStart]))"
   ]
  },
  {
   "cell_type": "code",
   "execution_count": null,
   "metadata": {
    "collapsed": true
   },
   "outputs": [],
   "source": []
  }
 ],
 "metadata": {
  "kernelspec": {
   "display_name": "Python 3",
   "language": "python",
   "name": "python3"
  },
  "language_info": {
   "codemirror_mode": {
    "name": "ipython",
    "version": 3
   },
   "file_extension": ".py",
   "mimetype": "text/x-python",
   "name": "python",
   "nbconvert_exporter": "python",
   "pygments_lexer": "ipython3",
   "version": "3.6.0"
  }
 },
 "nbformat": 4,
 "nbformat_minor": 2
}
